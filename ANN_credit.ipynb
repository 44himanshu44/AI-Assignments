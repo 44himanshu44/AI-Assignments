{
  "nbformat": 4,
  "nbformat_minor": 0,
  "metadata": {
    "colab": {
      "name": "ANN-credit.ipynb",
      "version": "0.3.2",
      "provenance": []
    },
    "kernelspec": {
      "name": "python3",
      "display_name": "Python 3"
    }
  },
  "cells": [
    {
      "cell_type": "code",
      "metadata": {
        "id": "wiYnQX-Wnvj7",
        "colab_type": "code",
        "colab": {}
      },
      "source": [
        "import numpy as np\n",
        "import matplotlib.pyplot as plt\n",
        "import pandas as pd"
      ],
      "execution_count": 0,
      "outputs": []
    },
    {
      "cell_type": "code",
      "metadata": {
        "id": "8mJIpmv1n1zG",
        "colab_type": "code",
        "colab": {}
      },
      "source": [
        "dataset= pd.read_csv('/content/drive/My Drive/UCI_Credit_Card.csv')\n"
      ],
      "execution_count": 0,
      "outputs": []
    },
    {
      "cell_type": "code",
      "metadata": {
        "id": "x3zpDj65pYW1",
        "colab_type": "code",
        "colab": {
          "base_uri": "https://localhost:8080/",
          "height": 459
        },
        "outputId": "19ee06f4-54db-4a5e-9075-4c33bca79eda"
      },
      "source": [
        "dataset.isnull().sum()"
      ],
      "execution_count": 57,
      "outputs": [
        {
          "output_type": "execute_result",
          "data": {
            "text/plain": [
              "ID                            0\n",
              "LIMIT_BAL                     0\n",
              "SEX                           0\n",
              "EDUCATION                     0\n",
              "MARRIAGE                      0\n",
              "AGE                           0\n",
              "PAY_0                         0\n",
              "PAY_2                         0\n",
              "PAY_3                         0\n",
              "PAY_4                         0\n",
              "PAY_5                         0\n",
              "PAY_6                         0\n",
              "BILL_AMT1                     0\n",
              "BILL_AMT2                     0\n",
              "BILL_AMT3                     0\n",
              "BILL_AMT4                     0\n",
              "BILL_AMT5                     0\n",
              "BILL_AMT6                     0\n",
              "PAY_AMT1                      0\n",
              "PAY_AMT2                      0\n",
              "PAY_AMT3                      0\n",
              "PAY_AMT4                      0\n",
              "PAY_AMT5                      0\n",
              "PAY_AMT6                      0\n",
              "default.payment.next.month    0\n",
              "dtype: int64"
            ]
          },
          "metadata": {
            "tags": []
          },
          "execution_count": 57
        }
      ]
    },
    {
      "cell_type": "code",
      "metadata": {
        "id": "QhFqDpzA0xNL",
        "colab_type": "code",
        "colab": {}
      },
      "source": [
        ""
      ],
      "execution_count": 0,
      "outputs": []
    },
    {
      "cell_type": "code",
      "metadata": {
        "id": "Q4voa1eyrjD1",
        "colab_type": "code",
        "colab": {
          "base_uri": "https://localhost:8080/",
          "height": 102
        },
        "outputId": "cfb4840e-a207-4ff2-8004-42ced3974ce4"
      },
      "source": [
        "dataset.query('EDUCATION !=0 and EDUCATION !=6 and EDUCATION !=5  ', inplace= True)\n",
        "dataset['EDUCATION'].value_counts()"
      ],
      "execution_count": 58,
      "outputs": [
        {
          "output_type": "execute_result",
          "data": {
            "text/plain": [
              "2    14030\n",
              "1    10585\n",
              "3     4917\n",
              "4      123\n",
              "Name: EDUCATION, dtype: int64"
            ]
          },
          "metadata": {
            "tags": []
          },
          "execution_count": 58
        }
      ]
    },
    {
      "cell_type": "code",
      "metadata": {
        "id": "ot6I-mWbwDDZ",
        "colab_type": "code",
        "colab": {
          "base_uri": "https://localhost:8080/",
          "height": 85
        },
        "outputId": "ade4c507-f7df-4349-c0cc-09692bf23070"
      },
      "source": [
        "dataset.query('MARRIAGE!=0', inplace= True)\n",
        "dataset['MARRIAGE'].value_counts()"
      ],
      "execution_count": 59,
      "outputs": [
        {
          "output_type": "execute_result",
          "data": {
            "text/plain": [
              "2    15806\n",
              "1    13477\n",
              "3      318\n",
              "Name: MARRIAGE, dtype: int64"
            ]
          },
          "metadata": {
            "tags": []
          },
          "execution_count": 59
        }
      ]
    },
    {
      "cell_type": "code",
      "metadata": {
        "id": "rRYXn4kXoYVE",
        "colab_type": "code",
        "colab": {
          "base_uri": "https://localhost:8080/",
          "height": 292
        },
        "outputId": "bf6fbfeb-1821-4572-b8da-dccdb727ca7d"
      },
      "source": [
        "# Encoding categorical data\n",
        "from sklearn.preprocessing import LabelEncoder, OneHotEncoder\n",
        "one_hot = OneHotEncoder()\n",
        "X_hot = one_hot.fit_transform(dataset[[\"SEX\", \"MARRIAGE\", \"EDUCATION\"]]).toarray()\n",
        "X = pd.DataFrame(X_hot)\n",
        "X.columns = ['male','female', 'married', 'single', 'others status','graduate school','university', 'high school',\"others education\"]\n",
        "X.head()\n"
      ],
      "execution_count": 60,
      "outputs": [
        {
          "output_type": "stream",
          "text": [
            "/usr/local/lib/python3.6/dist-packages/sklearn/preprocessing/_encoders.py:415: FutureWarning: The handling of integer data will change in version 0.22. Currently, the categories are determined based on the range [0, max(values)], while in the future they will be determined based on the unique values.\n",
            "If you want the future behaviour and silence this warning, you can specify \"categories='auto'\".\n",
            "In case you used a LabelEncoder before this OneHotEncoder to convert the categories to integers, then you can now use the OneHotEncoder directly.\n",
            "  warnings.warn(msg, FutureWarning)\n"
          ],
          "name": "stderr"
        },
        {
          "output_type": "execute_result",
          "data": {
            "text/html": [
              "<div>\n",
              "<style scoped>\n",
              "    .dataframe tbody tr th:only-of-type {\n",
              "        vertical-align: middle;\n",
              "    }\n",
              "\n",
              "    .dataframe tbody tr th {\n",
              "        vertical-align: top;\n",
              "    }\n",
              "\n",
              "    .dataframe thead th {\n",
              "        text-align: right;\n",
              "    }\n",
              "</style>\n",
              "<table border=\"1\" class=\"dataframe\">\n",
              "  <thead>\n",
              "    <tr style=\"text-align: right;\">\n",
              "      <th></th>\n",
              "      <th>male</th>\n",
              "      <th>female</th>\n",
              "      <th>married</th>\n",
              "      <th>single</th>\n",
              "      <th>others status</th>\n",
              "      <th>graduate school</th>\n",
              "      <th>university</th>\n",
              "      <th>high school</th>\n",
              "      <th>others education</th>\n",
              "    </tr>\n",
              "  </thead>\n",
              "  <tbody>\n",
              "    <tr>\n",
              "      <th>0</th>\n",
              "      <td>0.0</td>\n",
              "      <td>1.0</td>\n",
              "      <td>1.0</td>\n",
              "      <td>0.0</td>\n",
              "      <td>0.0</td>\n",
              "      <td>0.0</td>\n",
              "      <td>1.0</td>\n",
              "      <td>0.0</td>\n",
              "      <td>0.0</td>\n",
              "    </tr>\n",
              "    <tr>\n",
              "      <th>1</th>\n",
              "      <td>0.0</td>\n",
              "      <td>1.0</td>\n",
              "      <td>0.0</td>\n",
              "      <td>1.0</td>\n",
              "      <td>0.0</td>\n",
              "      <td>0.0</td>\n",
              "      <td>1.0</td>\n",
              "      <td>0.0</td>\n",
              "      <td>0.0</td>\n",
              "    </tr>\n",
              "    <tr>\n",
              "      <th>2</th>\n",
              "      <td>0.0</td>\n",
              "      <td>1.0</td>\n",
              "      <td>0.0</td>\n",
              "      <td>1.0</td>\n",
              "      <td>0.0</td>\n",
              "      <td>0.0</td>\n",
              "      <td>1.0</td>\n",
              "      <td>0.0</td>\n",
              "      <td>0.0</td>\n",
              "    </tr>\n",
              "    <tr>\n",
              "      <th>3</th>\n",
              "      <td>0.0</td>\n",
              "      <td>1.0</td>\n",
              "      <td>1.0</td>\n",
              "      <td>0.0</td>\n",
              "      <td>0.0</td>\n",
              "      <td>0.0</td>\n",
              "      <td>1.0</td>\n",
              "      <td>0.0</td>\n",
              "      <td>0.0</td>\n",
              "    </tr>\n",
              "    <tr>\n",
              "      <th>4</th>\n",
              "      <td>1.0</td>\n",
              "      <td>0.0</td>\n",
              "      <td>1.0</td>\n",
              "      <td>0.0</td>\n",
              "      <td>0.0</td>\n",
              "      <td>0.0</td>\n",
              "      <td>1.0</td>\n",
              "      <td>0.0</td>\n",
              "      <td>0.0</td>\n",
              "    </tr>\n",
              "  </tbody>\n",
              "</table>\n",
              "</div>"
            ],
            "text/plain": [
              "   male  female  married  ...  university  high school  others education\n",
              "0   0.0     1.0      1.0  ...         1.0          0.0               0.0\n",
              "1   0.0     1.0      0.0  ...         1.0          0.0               0.0\n",
              "2   0.0     1.0      0.0  ...         1.0          0.0               0.0\n",
              "3   0.0     1.0      1.0  ...         1.0          0.0               0.0\n",
              "4   1.0     0.0      1.0  ...         1.0          0.0               0.0\n",
              "\n",
              "[5 rows x 9 columns]"
            ]
          },
          "metadata": {
            "tags": []
          },
          "execution_count": 60
        }
      ]
    },
    {
      "cell_type": "code",
      "metadata": {
        "id": "L2DrTiqnqHfD",
        "colab_type": "code",
        "colab": {
          "base_uri": "https://localhost:8080/",
          "height": 34
        },
        "outputId": "5e000ceb-8e1f-4f94-f08f-5bd42ffd4988"
      },
      "source": [
        "dataset=dataset.reset_index(drop=True)\n",
        "df= pd.concat([dataset, X],1)\n",
        "df=df.drop(['SEX', 'MARRIAGE', 'EDUCATION','ID'],1)\n",
        "df.head()\n",
        "df.shape"
      ],
      "execution_count": 61,
      "outputs": [
        {
          "output_type": "execute_result",
          "data": {
            "text/plain": [
              "(29601, 30)"
            ]
          },
          "metadata": {
            "tags": []
          },
          "execution_count": 61
        }
      ]
    },
    {
      "cell_type": "code",
      "metadata": {
        "id": "vwZYAk9X0gjg",
        "colab_type": "code",
        "colab": {}
      },
      "source": [
        "X=df.drop(['default.payment.next.month'],1)\n",
        "y=df['default.payment.next.month']\n",
        "y.columns=['target']"
      ],
      "execution_count": 0,
      "outputs": []
    },
    {
      "cell_type": "code",
      "metadata": {
        "id": "IUddKtGD0tR6",
        "colab_type": "code",
        "colab": {}
      },
      "source": [
        "# Splitting the dataset into the Training set and Test set\n",
        "from sklearn.model_selection import train_test_split\n",
        "X_train, X_test, y_train, y_test = train_test_split(X, y, test_size = 0.2, random_state = 42)\n"
      ],
      "execution_count": 0,
      "outputs": []
    },
    {
      "cell_type": "code",
      "metadata": {
        "id": "vKNfBHpv1xf1",
        "colab_type": "code",
        "colab": {}
      },
      "source": [
        "# Feature Scaling\n",
        "from sklearn.preprocessing import StandardScaler\n",
        "sc = StandardScaler()\n",
        "X_train = sc.fit_transform(X_train)\n",
        "X_test = sc.transform(X_test)"
      ],
      "execution_count": 0,
      "outputs": []
    },
    {
      "cell_type": "code",
      "metadata": {
        "id": "TLddM_XJ7J5f",
        "colab_type": "code",
        "colab": {
          "base_uri": "https://localhost:8080/",
          "height": 85
        },
        "outputId": "9b22faf8-bea4-4bd0-c3d5-2154cb54b724"
      },
      "source": [
        "print(X_train.shape)\n",
        "print(X_test.shape)\n",
        "print(y_train.shape)\n",
        "print(y_test.shape)"
      ],
      "execution_count": 65,
      "outputs": [
        {
          "output_type": "stream",
          "text": [
            "(23680, 29)\n",
            "(5921, 29)\n",
            "(23680,)\n",
            "(5921,)\n"
          ],
          "name": "stdout"
        }
      ]
    },
    {
      "cell_type": "code",
      "metadata": {
        "id": "XuXGxn1_15n1",
        "colab_type": "code",
        "colab": {}
      },
      "source": [
        "# Importing the Keras libraries and packages\n",
        "import keras\n",
        "from keras.models import Sequential\n",
        "from keras.layers import Dense\n"
      ],
      "execution_count": 0,
      "outputs": []
    },
    {
      "cell_type": "code",
      "metadata": {
        "id": "WFz6WKER19PB",
        "colab_type": "code",
        "colab": {
          "base_uri": "https://localhost:8080/",
          "height": 1000
        },
        "outputId": "2e49ff88-2995-4fe9-8da4-6c776635ac30"
      },
      "source": [
        "# Initialising the ANN\n",
        "classifier = Sequential()\n",
        "\n",
        "# Adding the input layer and the first hidden layer\n",
        "classifier.add(Dense(units = 20, kernel_initializer = 'random_uniform', activation = 'relu', input_dim = 29))\n",
        "\n",
        "# Adding the second hidden layer\n",
        "classifier.add(Dense(units = 20, kernel_initializer = 'random_uniform', activation = 'relu'))\n",
        "\n",
        "# Adding the output layer\n",
        "classifier.add(Dense(units = 1, kernel_initializer = 'random_uniform', activation = 'sigmoid'))\n",
        "\n",
        "# Compiling the ANN\n",
        "classifier.compile(optimizer = 'adam', loss = 'binary_crossentropy', metrics = ['accuracy'])\n",
        "\n",
        "# Fitting the ANN to the Training set\n",
        "classifier.fit(X_train, y_train, batch_size = 32, epochs =150 )\n"
      ],
      "execution_count": 89,
      "outputs": [
        {
          "output_type": "stream",
          "text": [
            "Epoch 1/150\n",
            "23680/23680 [==============================] - 2s 83us/step - loss: 0.4906 - acc: 0.7981\n",
            "Epoch 2/150\n",
            "23680/23680 [==============================] - 1s 42us/step - loss: 0.4519 - acc: 0.8168\n",
            "Epoch 3/150\n",
            "23680/23680 [==============================] - 1s 41us/step - loss: 0.4484 - acc: 0.8184\n",
            "Epoch 4/150\n",
            "23680/23680 [==============================] - 1s 41us/step - loss: 0.4466 - acc: 0.8178\n",
            "Epoch 5/150\n",
            "23680/23680 [==============================] - 1s 43us/step - loss: 0.4448 - acc: 0.8197\n",
            "Epoch 6/150\n",
            "23680/23680 [==============================] - 1s 46us/step - loss: 0.4430 - acc: 0.8193\n",
            "Epoch 7/150\n",
            "23680/23680 [==============================] - 1s 46us/step - loss: 0.4411 - acc: 0.8193\n",
            "Epoch 8/150\n",
            "23680/23680 [==============================] - 1s 43us/step - loss: 0.4390 - acc: 0.8208\n",
            "Epoch 9/150\n",
            "23680/23680 [==============================] - 1s 43us/step - loss: 0.4376 - acc: 0.8217\n",
            "Epoch 10/150\n",
            "23680/23680 [==============================] - 1s 43us/step - loss: 0.4359 - acc: 0.8212\n",
            "Epoch 11/150\n",
            "23680/23680 [==============================] - 1s 44us/step - loss: 0.4351 - acc: 0.8213\n",
            "Epoch 12/150\n",
            "23680/23680 [==============================] - 1s 45us/step - loss: 0.4334 - acc: 0.8212\n",
            "Epoch 13/150\n",
            "23680/23680 [==============================] - 1s 48us/step - loss: 0.4334 - acc: 0.8227\n",
            "Epoch 14/150\n",
            "23680/23680 [==============================] - 1s 43us/step - loss: 0.4322 - acc: 0.8236\n",
            "Epoch 15/150\n",
            "23680/23680 [==============================] - 1s 46us/step - loss: 0.4316 - acc: 0.8229\n",
            "Epoch 16/150\n",
            "23680/23680 [==============================] - 1s 45us/step - loss: 0.4305 - acc: 0.8227\n",
            "Epoch 17/150\n",
            "23680/23680 [==============================] - 1s 47us/step - loss: 0.4300 - acc: 0.8235\n",
            "Epoch 18/150\n",
            "23680/23680 [==============================] - 1s 44us/step - loss: 0.4292 - acc: 0.8230\n",
            "Epoch 19/150\n",
            "23680/23680 [==============================] - 1s 43us/step - loss: 0.4284 - acc: 0.8232\n",
            "Epoch 20/150\n",
            "23680/23680 [==============================] - 1s 42us/step - loss: 0.4282 - acc: 0.8239\n",
            "Epoch 21/150\n",
            "23680/23680 [==============================] - 1s 43us/step - loss: 0.4281 - acc: 0.8232\n",
            "Epoch 22/150\n",
            "23680/23680 [==============================] - 1s 42us/step - loss: 0.4271 - acc: 0.8235\n",
            "Epoch 23/150\n",
            "23680/23680 [==============================] - 1s 42us/step - loss: 0.4267 - acc: 0.8238\n",
            "Epoch 24/150\n",
            "23680/23680 [==============================] - 1s 42us/step - loss: 0.4266 - acc: 0.8229\n",
            "Epoch 25/150\n",
            "23680/23680 [==============================] - 1s 42us/step - loss: 0.4261 - acc: 0.8245\n",
            "Epoch 26/150\n",
            "23680/23680 [==============================] - 1s 43us/step - loss: 0.4255 - acc: 0.8235\n",
            "Epoch 27/150\n",
            "23680/23680 [==============================] - 1s 45us/step - loss: 0.4256 - acc: 0.8234\n",
            "Epoch 28/150\n",
            "23680/23680 [==============================] - 1s 45us/step - loss: 0.4247 - acc: 0.8231\n",
            "Epoch 29/150\n",
            "23680/23680 [==============================] - 1s 44us/step - loss: 0.4246 - acc: 0.8241\n",
            "Epoch 30/150\n",
            "23680/23680 [==============================] - 1s 42us/step - loss: 0.4243 - acc: 0.8237\n",
            "Epoch 31/150\n",
            "23680/23680 [==============================] - 1s 46us/step - loss: 0.4244 - acc: 0.8247\n",
            "Epoch 32/150\n",
            "23680/23680 [==============================] - 1s 46us/step - loss: 0.4237 - acc: 0.8237\n",
            "Epoch 33/150\n",
            "23680/23680 [==============================] - 1s 45us/step - loss: 0.4236 - acc: 0.8242\n",
            "Epoch 34/150\n",
            "23680/23680 [==============================] - 1s 47us/step - loss: 0.4229 - acc: 0.8245\n",
            "Epoch 35/150\n",
            "23680/23680 [==============================] - 1s 44us/step - loss: 0.4234 - acc: 0.8243\n",
            "Epoch 36/150\n",
            "23680/23680 [==============================] - 1s 42us/step - loss: 0.4226 - acc: 0.8239\n",
            "Epoch 37/150\n",
            "23680/23680 [==============================] - 1s 44us/step - loss: 0.4224 - acc: 0.8256\n",
            "Epoch 38/150\n",
            "23680/23680 [==============================] - 1s 41us/step - loss: 0.4221 - acc: 0.8246\n",
            "Epoch 39/150\n",
            "23680/23680 [==============================] - 1s 41us/step - loss: 0.4214 - acc: 0.8255\n",
            "Epoch 40/150\n",
            "23680/23680 [==============================] - 1s 43us/step - loss: 0.4220 - acc: 0.8250\n",
            "Epoch 41/150\n",
            "23680/23680 [==============================] - 1s 43us/step - loss: 0.4215 - acc: 0.8251\n",
            "Epoch 42/150\n",
            "23680/23680 [==============================] - 1s 43us/step - loss: 0.4220 - acc: 0.8253\n",
            "Epoch 43/150\n",
            "23680/23680 [==============================] - 1s 46us/step - loss: 0.4207 - acc: 0.8247\n",
            "Epoch 44/150\n",
            "23680/23680 [==============================] - 1s 46us/step - loss: 0.4208 - acc: 0.8256\n",
            "Epoch 45/150\n",
            "23680/23680 [==============================] - 1s 47us/step - loss: 0.4209 - acc: 0.8253\n",
            "Epoch 46/150\n",
            "23680/23680 [==============================] - 1s 44us/step - loss: 0.4203 - acc: 0.8258\n",
            "Epoch 47/150\n",
            "23680/23680 [==============================] - 1s 44us/step - loss: 0.4202 - acc: 0.8249\n",
            "Epoch 48/150\n",
            "23680/23680 [==============================] - 1s 42us/step - loss: 0.4201 - acc: 0.8257\n",
            "Epoch 49/150\n",
            "23680/23680 [==============================] - 1s 44us/step - loss: 0.4203 - acc: 0.8258\n",
            "Epoch 50/150\n",
            "23680/23680 [==============================] - 1s 41us/step - loss: 0.4198 - acc: 0.8256\n",
            "Epoch 51/150\n",
            "23680/23680 [==============================] - 1s 42us/step - loss: 0.4197 - acc: 0.8264\n",
            "Epoch 52/150\n",
            "23680/23680 [==============================] - 1s 43us/step - loss: 0.4192 - acc: 0.8265\n",
            "Epoch 53/150\n",
            "23680/23680 [==============================] - 1s 41us/step - loss: 0.4193 - acc: 0.8255\n",
            "Epoch 54/150\n",
            "23680/23680 [==============================] - 1s 41us/step - loss: 0.4196 - acc: 0.8259\n",
            "Epoch 55/150\n",
            "23680/23680 [==============================] - 1s 40us/step - loss: 0.4187 - acc: 0.8255\n",
            "Epoch 56/150\n",
            "23680/23680 [==============================] - 1s 42us/step - loss: 0.4190 - acc: 0.8264\n",
            "Epoch 57/150\n",
            "23680/23680 [==============================] - 1s 41us/step - loss: 0.4182 - acc: 0.8263\n",
            "Epoch 58/150\n",
            "23680/23680 [==============================] - 1s 43us/step - loss: 0.4185 - acc: 0.8269\n",
            "Epoch 59/150\n",
            "23680/23680 [==============================] - 1s 43us/step - loss: 0.4186 - acc: 0.8257\n",
            "Epoch 60/150\n",
            "23680/23680 [==============================] - 1s 43us/step - loss: 0.4186 - acc: 0.8261\n",
            "Epoch 61/150\n",
            "23680/23680 [==============================] - 1s 41us/step - loss: 0.4188 - acc: 0.8262\n",
            "Epoch 62/150\n",
            "23680/23680 [==============================] - 1s 42us/step - loss: 0.4179 - acc: 0.8272\n",
            "Epoch 63/150\n",
            "23680/23680 [==============================] - 1s 42us/step - loss: 0.4180 - acc: 0.8263\n",
            "Epoch 64/150\n",
            "23680/23680 [==============================] - 1s 43us/step - loss: 0.4173 - acc: 0.8279\n",
            "Epoch 65/150\n",
            "23680/23680 [==============================] - 1s 42us/step - loss: 0.4172 - acc: 0.8266\n",
            "Epoch 66/150\n",
            "23680/23680 [==============================] - 1s 42us/step - loss: 0.4172 - acc: 0.8264\n",
            "Epoch 67/150\n",
            "23680/23680 [==============================] - 1s 42us/step - loss: 0.4177 - acc: 0.8274\n",
            "Epoch 68/150\n",
            "23680/23680 [==============================] - 1s 42us/step - loss: 0.4169 - acc: 0.8279\n",
            "Epoch 69/150\n",
            "23680/23680 [==============================] - 1s 41us/step - loss: 0.4168 - acc: 0.8270\n",
            "Epoch 70/150\n",
            "23680/23680 [==============================] - 1s 42us/step - loss: 0.4169 - acc: 0.8275\n",
            "Epoch 71/150\n",
            "23680/23680 [==============================] - 1s 40us/step - loss: 0.4165 - acc: 0.8263\n",
            "Epoch 72/150\n",
            "23680/23680 [==============================] - 1s 42us/step - loss: 0.4165 - acc: 0.8263\n",
            "Epoch 73/150\n",
            "23680/23680 [==============================] - 1s 41us/step - loss: 0.4165 - acc: 0.8273\n",
            "Epoch 74/150\n",
            "23680/23680 [==============================] - 1s 41us/step - loss: 0.4165 - acc: 0.8272\n",
            "Epoch 75/150\n",
            "23680/23680 [==============================] - 1s 42us/step - loss: 0.4163 - acc: 0.8263\n",
            "Epoch 76/150\n",
            "23680/23680 [==============================] - 1s 41us/step - loss: 0.4160 - acc: 0.8268\n",
            "Epoch 77/150\n",
            "23680/23680 [==============================] - 1s 43us/step - loss: 0.4164 - acc: 0.8276\n",
            "Epoch 78/150\n",
            "23680/23680 [==============================] - 1s 42us/step - loss: 0.4157 - acc: 0.8270\n",
            "Epoch 79/150\n",
            "23680/23680 [==============================] - 1s 42us/step - loss: 0.4159 - acc: 0.8270\n",
            "Epoch 80/150\n",
            "23680/23680 [==============================] - 1s 41us/step - loss: 0.4156 - acc: 0.8266\n",
            "Epoch 81/150\n",
            "23680/23680 [==============================] - 1s 42us/step - loss: 0.4158 - acc: 0.8274\n",
            "Epoch 82/150\n",
            "23680/23680 [==============================] - 1s 42us/step - loss: 0.4154 - acc: 0.8267\n",
            "Epoch 83/150\n",
            "23680/23680 [==============================] - 1s 42us/step - loss: 0.4151 - acc: 0.8273\n",
            "Epoch 84/150\n",
            "23680/23680 [==============================] - 1s 41us/step - loss: 0.4153 - acc: 0.8266\n",
            "Epoch 85/150\n",
            "23680/23680 [==============================] - 1s 43us/step - loss: 0.4146 - acc: 0.8266\n",
            "Epoch 86/150\n",
            "23680/23680 [==============================] - 1s 44us/step - loss: 0.4147 - acc: 0.8271\n",
            "Epoch 87/150\n",
            "23680/23680 [==============================] - 1s 42us/step - loss: 0.4150 - acc: 0.8272\n",
            "Epoch 88/150\n",
            "23680/23680 [==============================] - 1s 45us/step - loss: 0.4146 - acc: 0.8271\n",
            "Epoch 89/150\n",
            "23680/23680 [==============================] - 1s 45us/step - loss: 0.4146 - acc: 0.8267\n",
            "Epoch 90/150\n",
            "23680/23680 [==============================] - 1s 44us/step - loss: 0.4139 - acc: 0.8274\n",
            "Epoch 91/150\n",
            "23680/23680 [==============================] - 1s 44us/step - loss: 0.4141 - acc: 0.8266\n",
            "Epoch 92/150\n",
            "23680/23680 [==============================] - 1s 44us/step - loss: 0.4141 - acc: 0.8273\n",
            "Epoch 93/150\n",
            "23680/23680 [==============================] - 1s 42us/step - loss: 0.4137 - acc: 0.8272\n",
            "Epoch 94/150\n",
            "23680/23680 [==============================] - 1s 42us/step - loss: 0.4140 - acc: 0.8272\n",
            "Epoch 95/150\n",
            "23680/23680 [==============================] - 1s 42us/step - loss: 0.4140 - acc: 0.8269\n",
            "Epoch 96/150\n",
            "23680/23680 [==============================] - 1s 43us/step - loss: 0.4138 - acc: 0.8281\n",
            "Epoch 97/150\n",
            "23680/23680 [==============================] - 1s 43us/step - loss: 0.4139 - acc: 0.8264\n",
            "Epoch 98/150\n",
            "23680/23680 [==============================] - 1s 43us/step - loss: 0.4134 - acc: 0.8275\n",
            "Epoch 99/150\n",
            "23680/23680 [==============================] - 1s 46us/step - loss: 0.4135 - acc: 0.8270\n",
            "Epoch 100/150\n",
            "23680/23680 [==============================] - 1s 44us/step - loss: 0.4136 - acc: 0.8273\n",
            "Epoch 101/150\n",
            "23680/23680 [==============================] - 1s 43us/step - loss: 0.4136 - acc: 0.8269\n",
            "Epoch 102/150\n",
            "23680/23680 [==============================] - 1s 55us/step - loss: 0.4132 - acc: 0.8273\n",
            "Epoch 103/150\n",
            "23680/23680 [==============================] - 1s 44us/step - loss: 0.4136 - acc: 0.8264\n",
            "Epoch 104/150\n",
            "23680/23680 [==============================] - 1s 43us/step - loss: 0.4129 - acc: 0.8270\n",
            "Epoch 105/150\n",
            "23680/23680 [==============================] - 1s 43us/step - loss: 0.4130 - acc: 0.8272\n",
            "Epoch 106/150\n",
            "23680/23680 [==============================] - 1s 44us/step - loss: 0.4131 - acc: 0.8277\n",
            "Epoch 107/150\n",
            "23680/23680 [==============================] - 1s 42us/step - loss: 0.4128 - acc: 0.8277\n",
            "Epoch 108/150\n",
            "23680/23680 [==============================] - 1s 42us/step - loss: 0.4128 - acc: 0.8265\n",
            "Epoch 109/150\n",
            "23680/23680 [==============================] - 1s 44us/step - loss: 0.4124 - acc: 0.8283\n",
            "Epoch 110/150\n",
            "23680/23680 [==============================] - 1s 42us/step - loss: 0.4127 - acc: 0.8276\n",
            "Epoch 111/150\n",
            "23680/23680 [==============================] - 1s 42us/step - loss: 0.4125 - acc: 0.8281\n",
            "Epoch 112/150\n",
            "23680/23680 [==============================] - 1s 44us/step - loss: 0.4123 - acc: 0.8287\n",
            "Epoch 113/150\n",
            "23680/23680 [==============================] - 1s 45us/step - loss: 0.4125 - acc: 0.8274\n",
            "Epoch 114/150\n",
            "23680/23680 [==============================] - 1s 43us/step - loss: 0.4124 - acc: 0.8273\n",
            "Epoch 115/150\n",
            "23680/23680 [==============================] - 1s 42us/step - loss: 0.4121 - acc: 0.8275\n",
            "Epoch 116/150\n",
            "23680/23680 [==============================] - 1s 42us/step - loss: 0.4119 - acc: 0.8277\n",
            "Epoch 117/150\n",
            "23680/23680 [==============================] - 1s 43us/step - loss: 0.4115 - acc: 0.8275\n",
            "Epoch 118/150\n",
            "23680/23680 [==============================] - 1s 42us/step - loss: 0.4115 - acc: 0.8290\n",
            "Epoch 119/150\n",
            "23680/23680 [==============================] - 1s 42us/step - loss: 0.4117 - acc: 0.8287\n",
            "Epoch 120/150\n",
            "23680/23680 [==============================] - 1s 43us/step - loss: 0.4114 - acc: 0.8269\n",
            "Epoch 121/150\n",
            "23680/23680 [==============================] - 1s 43us/step - loss: 0.4117 - acc: 0.8277\n",
            "Epoch 122/150\n",
            "23680/23680 [==============================] - 1s 41us/step - loss: 0.4115 - acc: 0.8294\n",
            "Epoch 123/150\n",
            "23680/23680 [==============================] - 1s 43us/step - loss: 0.4107 - acc: 0.8288\n",
            "Epoch 124/150\n",
            "23680/23680 [==============================] - 1s 44us/step - loss: 0.4108 - acc: 0.8291\n",
            "Epoch 125/150\n",
            "23680/23680 [==============================] - 1s 43us/step - loss: 0.4110 - acc: 0.8288\n",
            "Epoch 126/150\n",
            "23680/23680 [==============================] - 1s 43us/step - loss: 0.4112 - acc: 0.8285\n",
            "Epoch 127/150\n",
            "23680/23680 [==============================] - 1s 43us/step - loss: 0.4106 - acc: 0.8290\n",
            "Epoch 128/150\n",
            "23680/23680 [==============================] - 1s 44us/step - loss: 0.4109 - acc: 0.8272\n",
            "Epoch 129/150\n",
            "23680/23680 [==============================] - 1s 45us/step - loss: 0.4104 - acc: 0.8291\n",
            "Epoch 130/150\n",
            "23680/23680 [==============================] - 1s 45us/step - loss: 0.4104 - acc: 0.8297\n",
            "Epoch 131/150\n",
            "23680/23680 [==============================] - 1s 46us/step - loss: 0.4108 - acc: 0.8284\n",
            "Epoch 132/150\n",
            "23680/23680 [==============================] - 1s 45us/step - loss: 0.4105 - acc: 0.8291\n",
            "Epoch 133/150\n",
            "23680/23680 [==============================] - 1s 46us/step - loss: 0.4108 - acc: 0.8293\n",
            "Epoch 134/150\n",
            "23680/23680 [==============================] - 1s 43us/step - loss: 0.4102 - acc: 0.8284\n",
            "Epoch 135/150\n",
            "23680/23680 [==============================] - 1s 44us/step - loss: 0.4105 - acc: 0.8285\n",
            "Epoch 136/150\n",
            "23680/23680 [==============================] - 1s 42us/step - loss: 0.4104 - acc: 0.8285\n",
            "Epoch 137/150\n",
            "23680/23680 [==============================] - 1s 42us/step - loss: 0.4097 - acc: 0.8285\n",
            "Epoch 138/150\n",
            "23680/23680 [==============================] - 1s 45us/step - loss: 0.4097 - acc: 0.8290\n",
            "Epoch 139/150\n",
            "23680/23680 [==============================] - 1s 43us/step - loss: 0.4094 - acc: 0.8283\n",
            "Epoch 140/150\n",
            "23680/23680 [==============================] - 1s 45us/step - loss: 0.4096 - acc: 0.8284\n",
            "Epoch 141/150\n",
            "23680/23680 [==============================] - 1s 42us/step - loss: 0.4095 - acc: 0.8288\n",
            "Epoch 142/150\n",
            "23680/23680 [==============================] - 1s 42us/step - loss: 0.4097 - acc: 0.8290\n",
            "Epoch 143/150\n",
            "23680/23680 [==============================] - 1s 47us/step - loss: 0.4094 - acc: 0.8285\n",
            "Epoch 144/150\n",
            "23680/23680 [==============================] - 1s 47us/step - loss: 0.4087 - acc: 0.8292\n",
            "Epoch 145/150\n",
            "23680/23680 [==============================] - 1s 45us/step - loss: 0.4094 - acc: 0.8304\n",
            "Epoch 146/150\n",
            "23680/23680 [==============================] - 1s 43us/step - loss: 0.4094 - acc: 0.8289\n",
            "Epoch 147/150\n",
            "23680/23680 [==============================] - 1s 43us/step - loss: 0.4093 - acc: 0.8292\n",
            "Epoch 148/150\n",
            "23680/23680 [==============================] - 1s 44us/step - loss: 0.4096 - acc: 0.8283\n",
            "Epoch 149/150\n",
            "23680/23680 [==============================] - 1s 41us/step - loss: 0.4092 - acc: 0.8294\n",
            "Epoch 150/150\n",
            "23680/23680 [==============================] - 1s 43us/step - loss: 0.4091 - acc: 0.8291\n"
          ],
          "name": "stdout"
        },
        {
          "output_type": "execute_result",
          "data": {
            "text/plain": [
              "<keras.callbacks.History at 0x7fbf882bdf28>"
            ]
          },
          "metadata": {
            "tags": []
          },
          "execution_count": 89
        }
      ]
    },
    {
      "cell_type": "code",
      "metadata": {
        "id": "3obEd2Hr_DGT",
        "colab_type": "code",
        "colab": {
          "base_uri": "https://localhost:8080/",
          "height": 51
        },
        "outputId": "ed3b47e2-43e3-406a-fd69-9e3ddea75e8d"
      },
      "source": [
        "# Making the Confusion Matrix\n",
        "from sklearn.metrics import accuracy_score\n",
        "# Predicting the Train set results\n",
        "y_pred_train = classifier.predict(X_train)\n",
        "y_pred_train = (y_pred_train > 0.5)\n",
        "print('Train accuracy: ',accuracy_score(y_train, y_pred_train))\n",
        "\n",
        "# Predicting the Test set results\n",
        "y_pred_test = classifier.predict(X_test)\n",
        "y_pred_test = (y_pred_test > 0.5)\n",
        "print('Test accuracy: ',accuracy_score(y_test, y_pred_test))\n"
      ],
      "execution_count": 90,
      "outputs": [
        {
          "output_type": "stream",
          "text": [
            "Train accuracy:  0.83125\n",
            "Test accuracy:  0.8049315993919945\n"
          ],
          "name": "stdout"
        }
      ]
    },
    {
      "cell_type": "code",
      "metadata": {
        "id": "S5WPlQ7q_5Hh",
        "colab_type": "code",
        "colab": {}
      },
      "source": [
        ""
      ],
      "execution_count": 0,
      "outputs": []
    }
  ]
}