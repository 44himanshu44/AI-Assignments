{
  "nbformat": 4,
  "nbformat_minor": 0,
  "metadata": {
    "colab": {
      "name": "AI-workflow.ipynb",
      "version": "0.3.2",
      "provenance": []
    },
    "kernelspec": {
      "name": "python3",
      "display_name": "Python 3"
    }
  },
  "cells": [
    {
      "cell_type": "code",
      "metadata": {
        "id": "BiPYbAGDGpPq",
        "colab_type": "code",
        "outputId": "75167719-06de-45f1-d1fa-b77eaf45ecb8",
        "colab": {
          "base_uri": "https://localhost:8080/",
          "height": 122
        }
      },
      "source": [
        "from google.colab import drive\n",
        "drive.mount('/content/drive')"
      ],
      "execution_count": 2,
      "outputs": [
        {
          "output_type": "stream",
          "text": [
            "Go to this URL in a browser: https://accounts.google.com/o/oauth2/auth?client_id=947318989803-6bn6qk8qdgf4n4g3pfee6491hc0brc4i.apps.googleusercontent.com&redirect_uri=urn%3Aietf%3Awg%3Aoauth%3A2.0%3Aoob&scope=email%20https%3A%2F%2Fwww.googleapis.com%2Fauth%2Fdocs.test%20https%3A%2F%2Fwww.googleapis.com%2Fauth%2Fdrive%20https%3A%2F%2Fwww.googleapis.com%2Fauth%2Fdrive.photos.readonly%20https%3A%2F%2Fwww.googleapis.com%2Fauth%2Fpeopleapi.readonly&response_type=code\n",
            "\n",
            "Enter your authorization code:\n",
            "··········\n",
            "Mounted at /content/drive\n"
          ],
          "name": "stdout"
        }
      ]
    },
    {
      "cell_type": "code",
      "metadata": {
        "id": "fucImcl4GqVs",
        "colab_type": "code",
        "colab": {}
      },
      "source": [
        "from sklearn.ensemble import RandomForestClassifier\n",
        "from sklearn.linear_model import LogisticRegression\n",
        "from xgboost import XGBClassifier\n",
        "from sklearn.model_selection import  train_test_split\n",
        "from sklearn.preprocessing import StandardScaler\n",
        "from sklearn.metrics import confusion_matrix,accuracy_score,classification_report\n",
        "import pandas as pd\n",
        "import seaborn as sns"
      ],
      "execution_count": 0,
      "outputs": []
    },
    {
      "cell_type": "code",
      "metadata": {
        "id": "y7LybyG_Io7L",
        "colab_type": "code",
        "colab": {}
      },
      "source": [
        "credit = pd.read_csv('/content/drive/My Drive/UCI_Credit_Card.csv')"
      ],
      "execution_count": 0,
      "outputs": []
    },
    {
      "cell_type": "code",
      "metadata": {
        "id": "_kJa9YJ7Jj2i",
        "colab_type": "code",
        "outputId": "ba0f3c03-47fa-4f61-f8fe-d8dc035d7c32",
        "colab": {
          "base_uri": "https://localhost:8080/",
          "height": 224
        }
      },
      "source": [
        "credit.head()"
      ],
      "execution_count": 5,
      "outputs": [
        {
          "output_type": "execute_result",
          "data": {
            "text/html": [
              "<div>\n",
              "<style scoped>\n",
              "    .dataframe tbody tr th:only-of-type {\n",
              "        vertical-align: middle;\n",
              "    }\n",
              "\n",
              "    .dataframe tbody tr th {\n",
              "        vertical-align: top;\n",
              "    }\n",
              "\n",
              "    .dataframe thead th {\n",
              "        text-align: right;\n",
              "    }\n",
              "</style>\n",
              "<table border=\"1\" class=\"dataframe\">\n",
              "  <thead>\n",
              "    <tr style=\"text-align: right;\">\n",
              "      <th></th>\n",
              "      <th>ID</th>\n",
              "      <th>LIMIT_BAL</th>\n",
              "      <th>SEX</th>\n",
              "      <th>EDUCATION</th>\n",
              "      <th>MARRIAGE</th>\n",
              "      <th>AGE</th>\n",
              "      <th>PAY_0</th>\n",
              "      <th>PAY_2</th>\n",
              "      <th>PAY_3</th>\n",
              "      <th>PAY_4</th>\n",
              "      <th>PAY_5</th>\n",
              "      <th>PAY_6</th>\n",
              "      <th>BILL_AMT1</th>\n",
              "      <th>BILL_AMT2</th>\n",
              "      <th>BILL_AMT3</th>\n",
              "      <th>BILL_AMT4</th>\n",
              "      <th>BILL_AMT5</th>\n",
              "      <th>BILL_AMT6</th>\n",
              "      <th>PAY_AMT1</th>\n",
              "      <th>PAY_AMT2</th>\n",
              "      <th>PAY_AMT3</th>\n",
              "      <th>PAY_AMT4</th>\n",
              "      <th>PAY_AMT5</th>\n",
              "      <th>PAY_AMT6</th>\n",
              "      <th>default.payment.next.month</th>\n",
              "    </tr>\n",
              "  </thead>\n",
              "  <tbody>\n",
              "    <tr>\n",
              "      <th>0</th>\n",
              "      <td>1</td>\n",
              "      <td>20000.0</td>\n",
              "      <td>2</td>\n",
              "      <td>2</td>\n",
              "      <td>1</td>\n",
              "      <td>24</td>\n",
              "      <td>2</td>\n",
              "      <td>2</td>\n",
              "      <td>-1</td>\n",
              "      <td>-1</td>\n",
              "      <td>-2</td>\n",
              "      <td>-2</td>\n",
              "      <td>3913.0</td>\n",
              "      <td>3102.0</td>\n",
              "      <td>689.0</td>\n",
              "      <td>0.0</td>\n",
              "      <td>0.0</td>\n",
              "      <td>0.0</td>\n",
              "      <td>0.0</td>\n",
              "      <td>689.0</td>\n",
              "      <td>0.0</td>\n",
              "      <td>0.0</td>\n",
              "      <td>0.0</td>\n",
              "      <td>0.0</td>\n",
              "      <td>1</td>\n",
              "    </tr>\n",
              "    <tr>\n",
              "      <th>1</th>\n",
              "      <td>2</td>\n",
              "      <td>120000.0</td>\n",
              "      <td>2</td>\n",
              "      <td>2</td>\n",
              "      <td>2</td>\n",
              "      <td>26</td>\n",
              "      <td>-1</td>\n",
              "      <td>2</td>\n",
              "      <td>0</td>\n",
              "      <td>0</td>\n",
              "      <td>0</td>\n",
              "      <td>2</td>\n",
              "      <td>2682.0</td>\n",
              "      <td>1725.0</td>\n",
              "      <td>2682.0</td>\n",
              "      <td>3272.0</td>\n",
              "      <td>3455.0</td>\n",
              "      <td>3261.0</td>\n",
              "      <td>0.0</td>\n",
              "      <td>1000.0</td>\n",
              "      <td>1000.0</td>\n",
              "      <td>1000.0</td>\n",
              "      <td>0.0</td>\n",
              "      <td>2000.0</td>\n",
              "      <td>1</td>\n",
              "    </tr>\n",
              "    <tr>\n",
              "      <th>2</th>\n",
              "      <td>3</td>\n",
              "      <td>90000.0</td>\n",
              "      <td>2</td>\n",
              "      <td>2</td>\n",
              "      <td>2</td>\n",
              "      <td>34</td>\n",
              "      <td>0</td>\n",
              "      <td>0</td>\n",
              "      <td>0</td>\n",
              "      <td>0</td>\n",
              "      <td>0</td>\n",
              "      <td>0</td>\n",
              "      <td>29239.0</td>\n",
              "      <td>14027.0</td>\n",
              "      <td>13559.0</td>\n",
              "      <td>14331.0</td>\n",
              "      <td>14948.0</td>\n",
              "      <td>15549.0</td>\n",
              "      <td>1518.0</td>\n",
              "      <td>1500.0</td>\n",
              "      <td>1000.0</td>\n",
              "      <td>1000.0</td>\n",
              "      <td>1000.0</td>\n",
              "      <td>5000.0</td>\n",
              "      <td>0</td>\n",
              "    </tr>\n",
              "    <tr>\n",
              "      <th>3</th>\n",
              "      <td>4</td>\n",
              "      <td>50000.0</td>\n",
              "      <td>2</td>\n",
              "      <td>2</td>\n",
              "      <td>1</td>\n",
              "      <td>37</td>\n",
              "      <td>0</td>\n",
              "      <td>0</td>\n",
              "      <td>0</td>\n",
              "      <td>0</td>\n",
              "      <td>0</td>\n",
              "      <td>0</td>\n",
              "      <td>46990.0</td>\n",
              "      <td>48233.0</td>\n",
              "      <td>49291.0</td>\n",
              "      <td>28314.0</td>\n",
              "      <td>28959.0</td>\n",
              "      <td>29547.0</td>\n",
              "      <td>2000.0</td>\n",
              "      <td>2019.0</td>\n",
              "      <td>1200.0</td>\n",
              "      <td>1100.0</td>\n",
              "      <td>1069.0</td>\n",
              "      <td>1000.0</td>\n",
              "      <td>0</td>\n",
              "    </tr>\n",
              "    <tr>\n",
              "      <th>4</th>\n",
              "      <td>5</td>\n",
              "      <td>50000.0</td>\n",
              "      <td>1</td>\n",
              "      <td>2</td>\n",
              "      <td>1</td>\n",
              "      <td>57</td>\n",
              "      <td>-1</td>\n",
              "      <td>0</td>\n",
              "      <td>-1</td>\n",
              "      <td>0</td>\n",
              "      <td>0</td>\n",
              "      <td>0</td>\n",
              "      <td>8617.0</td>\n",
              "      <td>5670.0</td>\n",
              "      <td>35835.0</td>\n",
              "      <td>20940.0</td>\n",
              "      <td>19146.0</td>\n",
              "      <td>19131.0</td>\n",
              "      <td>2000.0</td>\n",
              "      <td>36681.0</td>\n",
              "      <td>10000.0</td>\n",
              "      <td>9000.0</td>\n",
              "      <td>689.0</td>\n",
              "      <td>679.0</td>\n",
              "      <td>0</td>\n",
              "    </tr>\n",
              "  </tbody>\n",
              "</table>\n",
              "</div>"
            ],
            "text/plain": [
              "   ID  LIMIT_BAL  SEX  ...  PAY_AMT5  PAY_AMT6  default.payment.next.month\n",
              "0   1    20000.0    2  ...       0.0       0.0                           1\n",
              "1   2   120000.0    2  ...       0.0    2000.0                           1\n",
              "2   3    90000.0    2  ...    1000.0    5000.0                           0\n",
              "3   4    50000.0    2  ...    1069.0    1000.0                           0\n",
              "4   5    50000.0    1  ...     689.0     679.0                           0\n",
              "\n",
              "[5 rows x 25 columns]"
            ]
          },
          "metadata": {
            "tags": []
          },
          "execution_count": 5
        }
      ]
    },
    {
      "cell_type": "code",
      "metadata": {
        "id": "9UdJwMZWRjJp",
        "colab_type": "code",
        "colab": {}
      },
      "source": [
        "credit = credit.loc[credit['MARRIAGE']!=0,:]\n",
        "credit = credit.loc[credit['EDUCATION']!=0,:]"
      ],
      "execution_count": 0,
      "outputs": []
    },
    {
      "cell_type": "code",
      "metadata": {
        "id": "aspJN0e8RjGc",
        "colab_type": "code",
        "outputId": "3bd59584-3e93-4434-c6f9-5b4e234bd56e",
        "colab": {
          "base_uri": "https://localhost:8080/",
          "height": 85
        }
      },
      "source": [
        "credit[\"MARRIAGE\"].value_counts()"
      ],
      "execution_count": 7,
      "outputs": [
        {
          "output_type": "execute_result",
          "data": {
            "text/plain": [
              "2    15954\n",
              "1    13655\n",
              "3      323\n",
              "Name: MARRIAGE, dtype: int64"
            ]
          },
          "metadata": {
            "tags": []
          },
          "execution_count": 7
        }
      ]
    },
    {
      "cell_type": "code",
      "metadata": {
        "id": "7trGgnsRaj31",
        "colab_type": "code",
        "colab": {}
      },
      "source": [
        "credit['SEX'] = credit[\"SEX\"].astype(object)\n",
        "credit['MARRIAGE'] = credit[\"MARRIAGE\"].astype(object)\n",
        "credit['EDUCATION'] = credit[\"EDUCATION\"].astype(object)"
      ],
      "execution_count": 0,
      "outputs": []
    },
    {
      "cell_type": "code",
      "metadata": {
        "id": "lxKYn-k_KMOB",
        "colab_type": "code",
        "colab": {}
      },
      "source": [
        "credit.isnull().sum()"
      ],
      "execution_count": 0,
      "outputs": []
    },
    {
      "cell_type": "code",
      "metadata": {
        "id": "3HPU64etKiQh",
        "colab_type": "code",
        "outputId": "df8cf3b9-8474-4d63-cb18-fd94ebe5d718",
        "colab": {
          "base_uri": "https://localhost:8080/",
          "height": 527
        }
      },
      "source": [
        "credit.info()"
      ],
      "execution_count": 13,
      "outputs": [
        {
          "output_type": "stream",
          "text": [
            "<class 'pandas.core.frame.DataFrame'>\n",
            "Int64Index: 29932 entries, 0 to 29999\n",
            "Data columns (total 25 columns):\n",
            "ID                            29932 non-null int64\n",
            "LIMIT_BAL                     29932 non-null float64\n",
            "SEX                           29932 non-null object\n",
            "EDUCATION                     29932 non-null object\n",
            "MARRIAGE                      29932 non-null object\n",
            "AGE                           29932 non-null int64\n",
            "PAY_0                         29932 non-null int64\n",
            "PAY_2                         29932 non-null int64\n",
            "PAY_3                         29932 non-null int64\n",
            "PAY_4                         29932 non-null int64\n",
            "PAY_5                         29932 non-null int64\n",
            "PAY_6                         29932 non-null int64\n",
            "BILL_AMT1                     29932 non-null float64\n",
            "BILL_AMT2                     29932 non-null float64\n",
            "BILL_AMT3                     29932 non-null float64\n",
            "BILL_AMT4                     29932 non-null float64\n",
            "BILL_AMT5                     29932 non-null float64\n",
            "BILL_AMT6                     29932 non-null float64\n",
            "PAY_AMT1                      29932 non-null float64\n",
            "PAY_AMT2                      29932 non-null float64\n",
            "PAY_AMT3                      29932 non-null float64\n",
            "PAY_AMT4                      29932 non-null float64\n",
            "PAY_AMT5                      29932 non-null float64\n",
            "PAY_AMT6                      29932 non-null float64\n",
            "default.payment.next.month    29932 non-null int64\n",
            "dtypes: float64(13), int64(9), object(3)\n",
            "memory usage: 5.9+ MB\n"
          ],
          "name": "stdout"
        }
      ]
    },
    {
      "cell_type": "code",
      "metadata": {
        "id": "1TwfziqcK5vR",
        "colab_type": "code",
        "outputId": "901c2d86-d6ef-448d-b482-b36b6f1ebd18",
        "colab": {
          "base_uri": "https://localhost:8080/",
          "height": 317
        }
      },
      "source": [
        "credit.describe()"
      ],
      "execution_count": 14,
      "outputs": [
        {
          "output_type": "execute_result",
          "data": {
            "text/html": [
              "<div>\n",
              "<style scoped>\n",
              "    .dataframe tbody tr th:only-of-type {\n",
              "        vertical-align: middle;\n",
              "    }\n",
              "\n",
              "    .dataframe tbody tr th {\n",
              "        vertical-align: top;\n",
              "    }\n",
              "\n",
              "    .dataframe thead th {\n",
              "        text-align: right;\n",
              "    }\n",
              "</style>\n",
              "<table border=\"1\" class=\"dataframe\">\n",
              "  <thead>\n",
              "    <tr style=\"text-align: right;\">\n",
              "      <th></th>\n",
              "      <th>ID</th>\n",
              "      <th>LIMIT_BAL</th>\n",
              "      <th>AGE</th>\n",
              "      <th>PAY_0</th>\n",
              "      <th>PAY_2</th>\n",
              "      <th>PAY_3</th>\n",
              "      <th>PAY_4</th>\n",
              "      <th>PAY_5</th>\n",
              "      <th>PAY_6</th>\n",
              "      <th>BILL_AMT1</th>\n",
              "      <th>BILL_AMT2</th>\n",
              "      <th>BILL_AMT3</th>\n",
              "      <th>BILL_AMT4</th>\n",
              "      <th>BILL_AMT5</th>\n",
              "      <th>BILL_AMT6</th>\n",
              "      <th>PAY_AMT1</th>\n",
              "      <th>PAY_AMT2</th>\n",
              "      <th>PAY_AMT3</th>\n",
              "      <th>PAY_AMT4</th>\n",
              "      <th>PAY_AMT5</th>\n",
              "      <th>PAY_AMT6</th>\n",
              "      <th>default.payment.next.month</th>\n",
              "    </tr>\n",
              "  </thead>\n",
              "  <tbody>\n",
              "    <tr>\n",
              "      <th>count</th>\n",
              "      <td>29932.000000</td>\n",
              "      <td>29932.000000</td>\n",
              "      <td>29932.000000</td>\n",
              "      <td>29932.000000</td>\n",
              "      <td>29932.000000</td>\n",
              "      <td>29932.000000</td>\n",
              "      <td>29932.000000</td>\n",
              "      <td>29932.000000</td>\n",
              "      <td>29932.000000</td>\n",
              "      <td>29932.000000</td>\n",
              "      <td>29932.000000</td>\n",
              "      <td>2.993200e+04</td>\n",
              "      <td>29932.000000</td>\n",
              "      <td>29932.00000</td>\n",
              "      <td>29932.000000</td>\n",
              "      <td>29932.000000</td>\n",
              "      <td>2.993200e+04</td>\n",
              "      <td>29932.000000</td>\n",
              "      <td>29932.000000</td>\n",
              "      <td>29932.000000</td>\n",
              "      <td>29932.000000</td>\n",
              "      <td>29932.000000</td>\n",
              "    </tr>\n",
              "    <tr>\n",
              "      <th>mean</th>\n",
              "      <td>14998.159428</td>\n",
              "      <td>167523.375651</td>\n",
              "      <td>35.479721</td>\n",
              "      <td>-0.016203</td>\n",
              "      <td>-0.133235</td>\n",
              "      <td>-0.165776</td>\n",
              "      <td>-0.220099</td>\n",
              "      <td>-0.265569</td>\n",
              "      <td>-0.290358</td>\n",
              "      <td>51297.386109</td>\n",
              "      <td>49242.862589</td>\n",
              "      <td>4.707703e+04</td>\n",
              "      <td>43320.699452</td>\n",
              "      <td>40367.54861</td>\n",
              "      <td>38927.267072</td>\n",
              "      <td>5659.603034</td>\n",
              "      <td>5.923502e+03</td>\n",
              "      <td>5226.158760</td>\n",
              "      <td>4830.180075</td>\n",
              "      <td>4805.269310</td>\n",
              "      <td>5221.906421</td>\n",
              "      <td>0.221535</td>\n",
              "    </tr>\n",
              "    <tr>\n",
              "      <th>std</th>\n",
              "      <td>8660.079085</td>\n",
              "      <td>129821.209970</td>\n",
              "      <td>9.219044</td>\n",
              "      <td>1.123450</td>\n",
              "      <td>1.196990</td>\n",
              "      <td>1.196386</td>\n",
              "      <td>1.168849</td>\n",
              "      <td>1.133057</td>\n",
              "      <td>1.149735</td>\n",
              "      <td>73694.489286</td>\n",
              "      <td>71230.373793</td>\n",
              "      <td>6.940473e+04</td>\n",
              "      <td>64385.857098</td>\n",
              "      <td>60845.48775</td>\n",
              "      <td>59601.231051</td>\n",
              "      <td>16555.874642</td>\n",
              "      <td>2.306020e+04</td>\n",
              "      <td>17620.773728</td>\n",
              "      <td>15680.849676</td>\n",
              "      <td>15294.066811</td>\n",
              "      <td>17795.285035</td>\n",
              "      <td>0.415287</td>\n",
              "    </tr>\n",
              "    <tr>\n",
              "      <th>min</th>\n",
              "      <td>1.000000</td>\n",
              "      <td>10000.000000</td>\n",
              "      <td>21.000000</td>\n",
              "      <td>-2.000000</td>\n",
              "      <td>-2.000000</td>\n",
              "      <td>-2.000000</td>\n",
              "      <td>-2.000000</td>\n",
              "      <td>-2.000000</td>\n",
              "      <td>-2.000000</td>\n",
              "      <td>-165580.000000</td>\n",
              "      <td>-69777.000000</td>\n",
              "      <td>-1.572640e+05</td>\n",
              "      <td>-170000.000000</td>\n",
              "      <td>-81334.00000</td>\n",
              "      <td>-339603.000000</td>\n",
              "      <td>0.000000</td>\n",
              "      <td>0.000000e+00</td>\n",
              "      <td>0.000000</td>\n",
              "      <td>0.000000</td>\n",
              "      <td>0.000000</td>\n",
              "      <td>0.000000</td>\n",
              "      <td>0.000000</td>\n",
              "    </tr>\n",
              "    <tr>\n",
              "      <th>25%</th>\n",
              "      <td>7498.750000</td>\n",
              "      <td>50000.000000</td>\n",
              "      <td>28.000000</td>\n",
              "      <td>-1.000000</td>\n",
              "      <td>-1.000000</td>\n",
              "      <td>-1.000000</td>\n",
              "      <td>-1.000000</td>\n",
              "      <td>-1.000000</td>\n",
              "      <td>-1.000000</td>\n",
              "      <td>3577.000000</td>\n",
              "      <td>2989.750000</td>\n",
              "      <td>2.685500e+03</td>\n",
              "      <td>2339.750000</td>\n",
              "      <td>1772.75000</td>\n",
              "      <td>1261.000000</td>\n",
              "      <td>1000.000000</td>\n",
              "      <td>8.360000e+02</td>\n",
              "      <td>390.000000</td>\n",
              "      <td>298.000000</td>\n",
              "      <td>255.000000</td>\n",
              "      <td>122.000000</td>\n",
              "      <td>0.000000</td>\n",
              "    </tr>\n",
              "    <tr>\n",
              "      <th>50%</th>\n",
              "      <td>14994.500000</td>\n",
              "      <td>140000.000000</td>\n",
              "      <td>34.000000</td>\n",
              "      <td>0.000000</td>\n",
              "      <td>0.000000</td>\n",
              "      <td>0.000000</td>\n",
              "      <td>0.000000</td>\n",
              "      <td>0.000000</td>\n",
              "      <td>0.000000</td>\n",
              "      <td>22420.500000</td>\n",
              "      <td>21234.500000</td>\n",
              "      <td>2.011150e+04</td>\n",
              "      <td>19068.500000</td>\n",
              "      <td>18125.50000</td>\n",
              "      <td>17111.500000</td>\n",
              "      <td>2100.000000</td>\n",
              "      <td>2.010000e+03</td>\n",
              "      <td>1800.000000</td>\n",
              "      <td>1500.000000</td>\n",
              "      <td>1500.000000</td>\n",
              "      <td>1500.000000</td>\n",
              "      <td>0.000000</td>\n",
              "    </tr>\n",
              "    <tr>\n",
              "      <th>75%</th>\n",
              "      <td>22495.250000</td>\n",
              "      <td>240000.000000</td>\n",
              "      <td>41.000000</td>\n",
              "      <td>0.000000</td>\n",
              "      <td>0.000000</td>\n",
              "      <td>0.000000</td>\n",
              "      <td>0.000000</td>\n",
              "      <td>0.000000</td>\n",
              "      <td>0.000000</td>\n",
              "      <td>67283.500000</td>\n",
              "      <td>64136.000000</td>\n",
              "      <td>6.025250e+04</td>\n",
              "      <td>54613.250000</td>\n",
              "      <td>50253.50000</td>\n",
              "      <td>49260.250000</td>\n",
              "      <td>5006.000000</td>\n",
              "      <td>5.000000e+03</td>\n",
              "      <td>4507.250000</td>\n",
              "      <td>4015.000000</td>\n",
              "      <td>4040.250000</td>\n",
              "      <td>4000.000000</td>\n",
              "      <td>0.000000</td>\n",
              "    </tr>\n",
              "    <tr>\n",
              "      <th>max</th>\n",
              "      <td>30000.000000</td>\n",
              "      <td>1000000.000000</td>\n",
              "      <td>79.000000</td>\n",
              "      <td>8.000000</td>\n",
              "      <td>8.000000</td>\n",
              "      <td>8.000000</td>\n",
              "      <td>8.000000</td>\n",
              "      <td>8.000000</td>\n",
              "      <td>8.000000</td>\n",
              "      <td>964511.000000</td>\n",
              "      <td>983931.000000</td>\n",
              "      <td>1.664089e+06</td>\n",
              "      <td>891586.000000</td>\n",
              "      <td>927171.00000</td>\n",
              "      <td>961664.000000</td>\n",
              "      <td>873552.000000</td>\n",
              "      <td>1.684259e+06</td>\n",
              "      <td>896040.000000</td>\n",
              "      <td>621000.000000</td>\n",
              "      <td>426529.000000</td>\n",
              "      <td>528666.000000</td>\n",
              "      <td>1.000000</td>\n",
              "    </tr>\n",
              "  </tbody>\n",
              "</table>\n",
              "</div>"
            ],
            "text/plain": [
              "                 ID       LIMIT_BAL  ...       PAY_AMT6  default.payment.next.month\n",
              "count  29932.000000    29932.000000  ...   29932.000000                29932.000000\n",
              "mean   14998.159428   167523.375651  ...    5221.906421                    0.221535\n",
              "std     8660.079085   129821.209970  ...   17795.285035                    0.415287\n",
              "min        1.000000    10000.000000  ...       0.000000                    0.000000\n",
              "25%     7498.750000    50000.000000  ...     122.000000                    0.000000\n",
              "50%    14994.500000   140000.000000  ...    1500.000000                    0.000000\n",
              "75%    22495.250000   240000.000000  ...    4000.000000                    0.000000\n",
              "max    30000.000000  1000000.000000  ...  528666.000000                    1.000000\n",
              "\n",
              "[8 rows x 22 columns]"
            ]
          },
          "metadata": {
            "tags": []
          },
          "execution_count": 14
        }
      ]
    },
    {
      "cell_type": "code",
      "metadata": {
        "id": "-NIsp5YBNYta",
        "colab_type": "code",
        "colab": {}
      },
      "source": [
        "X = credit.drop(['default.payment.next.month'],1)\n",
        "y = credit['default.payment.next.month']"
      ],
      "execution_count": 0,
      "outputs": []
    },
    {
      "cell_type": "code",
      "metadata": {
        "id": "ejtE9lQma51Z",
        "colab_type": "code",
        "colab": {}
      },
      "source": [
        "X = pd.get_dummies(X)"
      ],
      "execution_count": 0,
      "outputs": []
    },
    {
      "cell_type": "code",
      "metadata": {
        "id": "-fVxaDijK55v",
        "colab_type": "code",
        "colab": {}
      },
      "source": [
        "scaler = StandardScaler()\n",
        "X = scaler.fit_transform(X)"
      ],
      "execution_count": 0,
      "outputs": []
    },
    {
      "cell_type": "code",
      "metadata": {
        "id": "8fOZ4PCcK52o",
        "colab_type": "code",
        "colab": {}
      },
      "source": [
        "X_train, X_test, y_train, y_test = train_test_split(X, y, test_size=0.33, random_state=42) "
      ],
      "execution_count": 0,
      "outputs": []
    },
    {
      "cell_type": "code",
      "metadata": {
        "id": "7GDsBeZbUbBJ",
        "colab_type": "code",
        "outputId": "7bc3ade7-cf89-4e72-d6e7-da8b9c4270cd",
        "colab": {
          "base_uri": "https://localhost:8080/",
          "height": 224
        }
      },
      "source": [
        "logit = LogisticRegression()\n",
        "logit.fit(X_train,y_train)\n",
        "y_pred = logit.predict(X_test)\n",
        "logit.score(X_test,y_test)\n",
        "print(classification_report(y_pred,y_test))"
      ],
      "execution_count": 20,
      "outputs": [
        {
          "output_type": "stream",
          "text": [
            "/usr/local/lib/python3.6/dist-packages/sklearn/linear_model/logistic.py:432: FutureWarning: Default solver will be changed to 'lbfgs' in 0.22. Specify a solver to silence this warning.\n",
            "  FutureWarning)\n"
          ],
          "name": "stderr"
        },
        {
          "output_type": "stream",
          "text": [
            "              precision    recall  f1-score   support\n",
            "\n",
            "           0       0.97      0.82      0.89      9101\n",
            "           1       0.24      0.68      0.36       777\n",
            "\n",
            "    accuracy                           0.81      9878\n",
            "   macro avg       0.61      0.75      0.62      9878\n",
            "weighted avg       0.91      0.81      0.85      9878\n",
            "\n"
          ],
          "name": "stdout"
        }
      ]
    },
    {
      "cell_type": "code",
      "metadata": {
        "id": "8l11ksEaZA6y",
        "colab_type": "code",
        "outputId": "cab4a8d7-bff0-42ff-bfe4-89766b6a0007",
        "colab": {
          "base_uri": "https://localhost:8080/",
          "height": 170
        }
      },
      "source": [
        "from sklearn.svm import SVC\n",
        "clf = SVC(gamma='auto')\n",
        "clf.fit(X_train, y_train)\n",
        "y_pred = clf.predict(X_test)\n",
        "clf.score(X_test,y_test)\n",
        "print(classification_report(y_pred,y_test))"
      ],
      "execution_count": 21,
      "outputs": [
        {
          "output_type": "stream",
          "text": [
            "              precision    recall  f1-score   support\n",
            "\n",
            "           0       0.96      0.83      0.89      8823\n",
            "           1       0.33      0.67      0.44      1055\n",
            "\n",
            "    accuracy                           0.82      9878\n",
            "   macro avg       0.64      0.75      0.67      9878\n",
            "weighted avg       0.89      0.82      0.84      9878\n",
            "\n"
          ],
          "name": "stdout"
        }
      ]
    },
    {
      "cell_type": "code",
      "metadata": {
        "id": "x1_8DFVhhOzA",
        "colab_type": "code",
        "colab": {}
      },
      "source": [
        "svc_class = classification_report(y_pred,y_test)"
      ],
      "execution_count": 0,
      "outputs": []
    },
    {
      "cell_type": "code",
      "metadata": {
        "id": "LRuNoMIvhf4E",
        "colab_type": "code",
        "outputId": "139d877f-7a27-4446-f2d2-e4fa5c7c0073",
        "colab": {
          "base_uri": "https://localhost:8080/",
          "height": 170
        }
      },
      "source": [
        "svc_class.split('\\n')"
      ],
      "execution_count": 23,
      "outputs": [
        {
          "output_type": "execute_result",
          "data": {
            "text/plain": [
              "['              precision    recall  f1-score   support',\n",
              " '',\n",
              " '           0       0.96      0.83      0.89      8823',\n",
              " '           1       0.33      0.67      0.44      1055',\n",
              " '',\n",
              " '    accuracy                           0.82      9878',\n",
              " '   macro avg       0.64      0.75      0.67      9878',\n",
              " 'weighted avg       0.89      0.82      0.84      9878',\n",
              " '']"
            ]
          },
          "metadata": {
            "tags": []
          },
          "execution_count": 23
        }
      ]
    },
    {
      "cell_type": "code",
      "metadata": {
        "id": "re6I59xBbvYW",
        "colab_type": "code",
        "colab": {}
      },
      "source": [
        "from sklearn.linear_model import LogisticRegression\n",
        "from sklearn.ensemble import RandomForestClassifier\n",
        "from sklearn.linear_model import LogisticRegression\n",
        "from sklearn.neighbors import KNeighborsClassifier\n",
        "from sklearn.model_selection import GridSearchCV, cross_val_score\n",
        "from sklearn.metrics import confusion_matrix, precision_score, recall_score"
      ],
      "execution_count": 0,
      "outputs": []
    },
    {
      "cell_type": "code",
      "metadata": {
        "id": "0aleuOOmbxHo",
        "colab_type": "code",
        "colab": {}
      },
      "source": [
        "# create a function for models\n",
        "def Models(X_train, X_test, y_train, y_test): \n",
        "    # Logistic regression\n",
        "    log_reg = LogisticRegression()\n",
        "    log_reg.fit(X_train,y_train)\n",
        "    y_pred= log_reg.predict(X_test)\n",
        "    crossval_log = cross_val_score(log_reg,X_train,y_train,cv=10).mean()\n",
        "    log_matrix = confusion_matrix(y_test, y_pred)\n",
        "    pre_log = precision_score(y_test, y_pred)\n",
        "    recall_log = recall_score(y_test, y_pred)\n",
        "\n",
        "\n",
        "    # RandomForestClassifier\n",
        "\n",
        "    rc = RandomForestClassifier()\n",
        "    rc.fit(X_train,y_train)\n",
        "    y_pred= rc.predict(X_test)\n",
        "    crossval_rc = cross_val_score(rc,X_train,y_train,cv=10).mean()\n",
        "\n",
        "    rf_matrix = confusion_matrix(y_test, y_pred)\n",
        "    pre_rf = precision_score(y_test, y_pred)\n",
        "    recall_rf = recall_score(y_test, y_pred)\n",
        "\n",
        "    #KNNClassifier\n",
        "\n",
        "    knn= KNeighborsClassifier()\n",
        "    knn.fit(X_train,y_train)\n",
        "    y_pred_knn = knn.predict(X_test)\n",
        "    crossval_knn = cross_val_score(knn,X_train,y_train,cv=10).mean()\n",
        "\n",
        "    knn_matrix = confusion_matrix(y_test, y_pred)\n",
        "    pre_knn = precision_score(y_test, y_pred)\n",
        "    recall_knn = recall_score(y_test, y_pred)   \n",
        "\n",
        "    Model = [\"Logistic Regression\",\"Random Forest Classifier\", \"K-NN Classifier\"]\n",
        "    cross_val= [crossval_log,crossval_rc,crossval_knn]\n",
        "    matrix = [log_matrix,rf_matrix,knn_matrix]\n",
        "    precision = [pre_log,pre_rf,pre_knn]\n",
        "    recall = [recall_log,recall_rf,recall_knn]\n",
        "    results=pd.DataFrame({'Model': Model,'CrossValidation Score': cross_val,'Accuracy Matrix': matrix,'Precision': precision,'Recall': recall})\n",
        "    \n",
        "    return results\n",
        "    #return knn_matrix,rf_matrix,log_matrix, pre_knn,pre_rf,pre_log,recall_log, recall_knn,recall_rf,crossval_log, crossval_rf, crossval_knn\n"
      ],
      "execution_count": 0,
      "outputs": []
    },
    {
      "cell_type": "code",
      "metadata": {
        "id": "NRruBUMFblzz",
        "colab_type": "code",
        "colab": {
          "base_uri": "https://localhost:8080/",
          "height": 570
        },
        "outputId": "c6e701eb-b923-44a9-c17d-d27178da3cec"
      },
      "source": [
        "Models(X_train, X_test, y_train, y_test)"
      ],
      "execution_count": 26,
      "outputs": [
        {
          "output_type": "stream",
          "text": [
            "/usr/local/lib/python3.6/dist-packages/sklearn/linear_model/logistic.py:432: FutureWarning: Default solver will be changed to 'lbfgs' in 0.22. Specify a solver to silence this warning.\n",
            "  FutureWarning)\n",
            "/usr/local/lib/python3.6/dist-packages/sklearn/linear_model/logistic.py:432: FutureWarning: Default solver will be changed to 'lbfgs' in 0.22. Specify a solver to silence this warning.\n",
            "  FutureWarning)\n",
            "/usr/local/lib/python3.6/dist-packages/sklearn/linear_model/logistic.py:432: FutureWarning: Default solver will be changed to 'lbfgs' in 0.22. Specify a solver to silence this warning.\n",
            "  FutureWarning)\n",
            "/usr/local/lib/python3.6/dist-packages/sklearn/linear_model/logistic.py:432: FutureWarning: Default solver will be changed to 'lbfgs' in 0.22. Specify a solver to silence this warning.\n",
            "  FutureWarning)\n",
            "/usr/local/lib/python3.6/dist-packages/sklearn/linear_model/logistic.py:432: FutureWarning: Default solver will be changed to 'lbfgs' in 0.22. Specify a solver to silence this warning.\n",
            "  FutureWarning)\n",
            "/usr/local/lib/python3.6/dist-packages/sklearn/linear_model/logistic.py:432: FutureWarning: Default solver will be changed to 'lbfgs' in 0.22. Specify a solver to silence this warning.\n",
            "  FutureWarning)\n",
            "/usr/local/lib/python3.6/dist-packages/sklearn/linear_model/logistic.py:432: FutureWarning: Default solver will be changed to 'lbfgs' in 0.22. Specify a solver to silence this warning.\n",
            "  FutureWarning)\n",
            "/usr/local/lib/python3.6/dist-packages/sklearn/linear_model/logistic.py:432: FutureWarning: Default solver will be changed to 'lbfgs' in 0.22. Specify a solver to silence this warning.\n",
            "  FutureWarning)\n",
            "/usr/local/lib/python3.6/dist-packages/sklearn/linear_model/logistic.py:432: FutureWarning: Default solver will be changed to 'lbfgs' in 0.22. Specify a solver to silence this warning.\n",
            "  FutureWarning)\n",
            "/usr/local/lib/python3.6/dist-packages/sklearn/linear_model/logistic.py:432: FutureWarning: Default solver will be changed to 'lbfgs' in 0.22. Specify a solver to silence this warning.\n",
            "  FutureWarning)\n",
            "/usr/local/lib/python3.6/dist-packages/sklearn/linear_model/logistic.py:432: FutureWarning: Default solver will be changed to 'lbfgs' in 0.22. Specify a solver to silence this warning.\n",
            "  FutureWarning)\n",
            "/usr/local/lib/python3.6/dist-packages/sklearn/ensemble/forest.py:245: FutureWarning: The default value of n_estimators will change from 10 in version 0.20 to 100 in 0.22.\n",
            "  \"10 in version 0.20 to 100 in 0.22.\", FutureWarning)\n"
          ],
          "name": "stderr"
        },
        {
          "output_type": "execute_result",
          "data": {
            "text/html": [
              "<div>\n",
              "<style scoped>\n",
              "    .dataframe tbody tr th:only-of-type {\n",
              "        vertical-align: middle;\n",
              "    }\n",
              "\n",
              "    .dataframe tbody tr th {\n",
              "        vertical-align: top;\n",
              "    }\n",
              "\n",
              "    .dataframe thead th {\n",
              "        text-align: right;\n",
              "    }\n",
              "</style>\n",
              "<table border=\"1\" class=\"dataframe\">\n",
              "  <thead>\n",
              "    <tr style=\"text-align: right;\">\n",
              "      <th></th>\n",
              "      <th>Model</th>\n",
              "      <th>CrossValidation Score</th>\n",
              "      <th>Accuracy Matrix</th>\n",
              "      <th>Precision</th>\n",
              "      <th>Recall</th>\n",
              "    </tr>\n",
              "  </thead>\n",
              "  <tbody>\n",
              "    <tr>\n",
              "      <th>0</th>\n",
              "      <td>Logistic Regression</td>\n",
              "      <td>0.811608</td>\n",
              "      <td>[[7457, 247], [1644, 530]]</td>\n",
              "      <td>0.682111</td>\n",
              "      <td>0.243790</td>\n",
              "    </tr>\n",
              "    <tr>\n",
              "      <th>1</th>\n",
              "      <td>Random Forest Classifier</td>\n",
              "      <td>0.805924</td>\n",
              "      <td>[[7262, 442], [1472, 702]]</td>\n",
              "      <td>0.613636</td>\n",
              "      <td>0.322907</td>\n",
              "    </tr>\n",
              "    <tr>\n",
              "      <th>2</th>\n",
              "      <td>K-NN Classifier</td>\n",
              "      <td>0.791463</td>\n",
              "      <td>[[7262, 442], [1472, 702]]</td>\n",
              "      <td>0.613636</td>\n",
              "      <td>0.322907</td>\n",
              "    </tr>\n",
              "  </tbody>\n",
              "</table>\n",
              "</div>"
            ],
            "text/plain": [
              "                      Model  CrossValidation Score  ... Precision    Recall\n",
              "0       Logistic Regression               0.811608  ...  0.682111  0.243790\n",
              "1  Random Forest Classifier               0.805924  ...  0.613636  0.322907\n",
              "2           K-NN Classifier               0.791463  ...  0.613636  0.322907\n",
              "\n",
              "[3 rows x 5 columns]"
            ]
          },
          "metadata": {
            "tags": []
          },
          "execution_count": 26
        }
      ]
    },
    {
      "cell_type": "code",
      "metadata": {
        "id": "fm7-k549cOc0",
        "colab_type": "code",
        "colab": {}
      },
      "source": [
        ""
      ],
      "execution_count": 0,
      "outputs": []
    }
  ]
}