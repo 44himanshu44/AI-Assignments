{
  "nbformat": 4,
  "nbformat_minor": 0,
  "metadata": {
    "colab": {
      "name": "bfs dfs.ipynb",
      "version": "0.3.2",
      "provenance": []
    },
    "kernelspec": {
      "name": "python3",
      "display_name": "Python 3"
    }
  },
  "cells": [
    {
      "cell_type": "code",
      "metadata": {
        "id": "DExo8y31jNyj",
        "colab_type": "code",
        "colab": {}
      },
      "source": [
        "# sample graph implemented as a dictionary\n",
        "graph = {'A': ['B', 'C', 'E'],\n",
        "         'B': ['A','D', 'E'],\n",
        "         'C': ['A', 'F', 'G'],\n",
        "         'D': ['B'],\n",
        "         'E': ['A', 'B','D'],\n",
        "         'F': ['C'],\n",
        "         'G': ['C']}"
      ],
      "execution_count": 0,
      "outputs": []
    },
    {
      "cell_type": "code",
      "metadata": {
        "id": "YUCZm2Y4spFt",
        "colab_type": "code",
        "outputId": "eb971c0c-48fc-458f-ec1e-b0f31a1e6bf3",
        "colab": {
          "base_uri": "https://localhost:8080/",
          "height": 34
        }
      },
      "source": [
        "# visits all the nodes of a graph (connected component) using BFS\n",
        "def bfs_connected_component(graph, start):\n",
        "    # keep track of all visited nodes\n",
        "    explored = []\n",
        "    # keep track of nodes to be checked\n",
        "    queue = [start]\n",
        " \n",
        "    # keep looping until there are nodes still to be checked\n",
        "    while queue:\n",
        "        # pop shallowest node (first node) from queue\n",
        "        node = queue.pop(0)\n",
        "        if node not in explored:\n",
        "            # add node to list of checked nodes\n",
        "            explored.append(node)\n",
        "            neighbours = graph[node]\n",
        " \n",
        "            # add neighbours of node to queue\n",
        "            for neighbour in neighbours:\n",
        "                queue.append(neighbour)\n",
        "    return explored\n",
        "bfs_connected_component(graph,'A') # returns ['A', 'B', 'C', 'E', 'D', 'F', 'G']\n"
      ],
      "execution_count": 2,
      "outputs": [
        {
          "output_type": "execute_result",
          "data": {
            "text/plain": [
              "['A', 'B', 'C', 'E', 'D', 'F', 'G']"
            ]
          },
          "metadata": {
            "tags": []
          },
          "execution_count": 2
        }
      ]
    },
    {
      "cell_type": "code",
      "metadata": {
        "id": "7R1jeOf7x_T6",
        "colab_type": "code",
        "outputId": "526c51af-fa82-41db-deda-d011b4f9ffe6",
        "colab": {
          "base_uri": "https://localhost:8080/",
          "height": 34
        }
      },
      "source": [
        "# finds shortest path between 2 nodes of a graph using BFS\n",
        "def bfs_shortest_path(graph, start, goal):\n",
        "    # keep track of explored nodes\n",
        "    explored = []\n",
        "    # keep track of all the paths to be checked\n",
        "    queue = [[start]]\n",
        " \n",
        "    # return path if start is goal\n",
        "    if start == goal:\n",
        "        return \"That was easy! Start = goal\"\n",
        " \n",
        "    # keeps looping until all possible paths have been checked\n",
        "    while queue:\n",
        "        # pop the first path from the queue\n",
        "        path = queue.pop(0)\n",
        "        # get the last node from the path\n",
        "        node = path[-1]\n",
        "        if node not in explored:\n",
        "            neighbours = graph[node]\n",
        "            # go through all neighbour nodes, construct a new path and\n",
        "            # push it into the queue\n",
        "            for neighbour in neighbours:\n",
        "                new_path = list(path)\n",
        "                new_path.append(neighbour)\n",
        "                queue.append(new_path)\n",
        "                # return path if neighbour is goal\n",
        "                if neighbour == goal:\n",
        "                    return new_path\n",
        " \n",
        "            # mark node as explored\n",
        "            explored.append(node)\n",
        " \n",
        "    # in case there's no path between the 2 nodes\n",
        "    return \"So sorry, but a connecting path doesn't exist :(\"\n",
        "bfs_shortest_path(graph, 'G', 'D')  # returns ['G', 'C', 'A', 'B', 'D']\n"
      ],
      "execution_count": 3,
      "outputs": [
        {
          "output_type": "execute_result",
          "data": {
            "text/plain": [
              "['G', 'C', 'A', 'B', 'D']"
            ]
          },
          "metadata": {
            "tags": []
          },
          "execution_count": 3
        }
      ]
    },
    {
      "cell_type": "code",
      "metadata": {
        "id": "bXrPMaiHTcbx",
        "colab_type": "code",
        "colab": {
          "base_uri": "https://localhost:8080/",
          "height": 34
        },
        "outputId": "08e9cba6-93ea-4710-8f35-84b49423c88b"
      },
      "source": [
        "#DFS\n",
        "visited = []\n",
        "def dfs_traversal(graph,start):\n",
        "  if start not in visited:\n",
        "    visited.append(start)\n",
        "    for n in graph[start]:\n",
        "      dfs_traversal(graph,n)\n",
        "      return visited\n",
        "dfs_traversal(graph,\"D\")"
      ],
      "execution_count": 7,
      "outputs": [
        {
          "output_type": "execute_result",
          "data": {
            "text/plain": [
              "['D', 'B', 'A']"
            ]
          },
          "metadata": {
            "tags": []
          },
          "execution_count": 7
        }
      ]
    },
    {
      "cell_type": "code",
      "metadata": {
        "id": "llPDaLDhTtYy",
        "colab_type": "code",
        "colab": {}
      },
      "source": [
        ""
      ],
      "execution_count": 0,
      "outputs": []
    }
  ]
}